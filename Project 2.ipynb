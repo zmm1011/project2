{
 "cells": [
  {
   "cell_type": "code",
   "execution_count": null,
   "metadata": {},
   "outputs": [],
   "source": [
    "                                Final Project\n",
    "    Project overview\n",
    "    \n",
    "    The purpose of this project will study the relationship between the measure of economic activities (Consumer Price Index, Total Nonfarm Payroll, and yield curve) in the United States over the past 15 years, with particular emphasis on the economic recession period in 2008 and 2020. We assume that wage is positively correlated with price levels and negatively correlated with the yield curve. We will use the time-series data of these variables to confirm our hypothesis.
."
   ]
  }
 ],
 "metadata": {
  "kernelspec": {
   "display_name": "Python 3",
   "language": "python",
   "name": "python3"
  },
  "language_info": {
   "codemirror_mode": {
    "name": "ipython",
    "version": 3
   },
   "file_extension": ".py",
   "mimetype": "text/x-python",
   "name": "python",
   "nbconvert_exporter": "python",
   "pygments_lexer": "ipython3",
   "version": "3.8.3"
  }
 },
 "nbformat": 4,
 "nbformat_minor": 4
}
